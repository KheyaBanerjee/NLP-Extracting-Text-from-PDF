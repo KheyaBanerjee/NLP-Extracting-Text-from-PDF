{
 "cells": [
  {
   "cell_type": "markdown",
   "id": "84737160",
   "metadata": {},
   "source": [
    "### For windows, install poppler first follow this instructions\n",
    "https://stackoverflow.com/questions/18381713/how-to-install-poppler-on-windows"
   ]
  },
  {
   "cell_type": "code",
   "execution_count": null,
   "id": "5d1ac269",
   "metadata": {},
   "outputs": [],
   "source": [
    "# Install image library\n",
    "!pip install pdf2image"
   ]
  },
  {
   "cell_type": "code",
   "execution_count": null,
   "id": "f1abddad",
   "metadata": {},
   "outputs": [],
   "source": [
    "!pip3 install PIL"
   ]
  },
  {
   "cell_type": "code",
   "execution_count": null,
   "id": "1081b345",
   "metadata": {},
   "outputs": [],
   "source": [
    "!pip3 install pytesseract"
   ]
  },
  {
   "cell_type": "code",
   "execution_count": null,
   "id": "ae18546d",
   "metadata": {},
   "outputs": [],
   "source": [
    "!sudo apt-get install tesseract-ocr"
   ]
  },
  {
   "cell_type": "code",
   "execution_count": null,
   "id": "71c4a952",
   "metadata": {},
   "outputs": [],
   "source": [
    "# Import libraries\n",
    "from tempfile import TemporaryDirectory\n",
    "from pathlib import Path\n",
    " \n",
    "import pytesseract\n",
    "from pdf2image import convert_from_path\n",
    "from PIL import Image"
   ]
  },
  {
   "cell_type": "code",
   "execution_count": null,
   "id": "b1a1320f",
   "metadata": {},
   "outputs": [],
   "source": [
    "# More downloads ... check document\n",
    "pytesseract.pytesseract.tesseract_cmd = (r\"C:\\Program Files\\Tesseract-OCR\\tesseract.exe\")\n",
    "path_to_poppler_exe = Path(r\"C:\\Program Files\\poppler-0.68.0_x86\\poppler-0.68.0_x86.exe\")\n",
    "out_directory = Path(r\"~\\Desktop\").expanduser()"
   ]
  },
  {
   "cell_type": "markdown",
   "id": "cd65815d",
   "metadata": {},
   "source": [
    "## Part 1: Convert pdf to image"
   ]
  },
  {
   "cell_type": "code",
   "execution_count": null,
   "id": "1024d7bc",
   "metadata": {},
   "outputs": [],
   "source": [
    "PDF_file = Path(r\"C:\\Users\\KhBanerjee\\OneDrive - American Bureau of Shipping\\Desktop\\AcronymsList.pdf\"\")\n",
    "image_file_list = [] \n",
    "text_file = out_directory / Path(\"out_text.txt\")"
   ]
  },
  {
   "cell_type": "code",
   "execution_count": null,
   "id": "d68876f7",
   "metadata": {},
   "outputs": [],
   "source": [
    "pdf_pages = convert_from_path(PDF_file, 500, poppler_path=path_to_poppler_exe)\n",
    "for page_enumeration, page in enumerate(pdf_pages, start=1):\n",
    "    filename = f\"{tempdir}\\page_{page_enumeration:03}.jpg\"\n",
    "    page.save(filename, \"JPEG\")\n",
    "    image_file_list.append(filename)"
   ]
  },
  {
   "cell_type": "markdown",
   "id": "d33944b1",
   "metadata": {},
   "source": [
    "## Part 2: Use OCR to recognize text"
   ]
  },
  {
   "cell_type": "code",
   "execution_count": null,
   "id": "69c180ae",
   "metadata": {},
   "outputs": [],
   "source": [
    "with open(text_file, \"a\") as output_file:\n",
    "    for image_file in image_file_list:\n",
    "        text = str(((pytesseract.image_to_string(Image.open(image_file)))))\n",
    "        text = text.replace(\"-\\n\", \"\")\n",
    "        output_file.write(text)"
   ]
  },
  {
   "cell_type": "code",
   "execution_count": null,
   "id": "ea68dda3",
   "metadata": {},
   "outputs": [],
   "source": []
  }
 ],
 "metadata": {
  "kernelspec": {
   "display_name": "Python 3 (ipykernel)",
   "language": "python",
   "name": "python3"
  },
  "language_info": {
   "codemirror_mode": {
    "name": "ipython",
    "version": 3
   },
   "file_extension": ".py",
   "mimetype": "text/x-python",
   "name": "python",
   "nbconvert_exporter": "python",
   "pygments_lexer": "ipython3",
   "version": "3.9.7"
  }
 },
 "nbformat": 4,
 "nbformat_minor": 5
}
